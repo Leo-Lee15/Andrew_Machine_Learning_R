{
 "cells": [
  {
   "cell_type": "markdown",
   "metadata": {},
   "source": [
    "### Anomaly Detection with <strong, style=\"color:red\"> R</strong>"
   ]
  },
  {
   "cell_type": "markdown",
   "metadata": {},
   "source": [
    "Anomaly detection is used for different applications. It is a commonly used technique for fraud detection. It is also used in manufacturing to detect anomalous systems such as aircraft engines. It can also be used to identify anomalous medical devices and machines in a data center. You can read more about anomaly detection from <a href =\"https://en.wikipedia.org/wiki/Anomaly_detection\" target =\"_blank\">Wikipedia</a>.\n",
    "\n",
    "In this blog post, we will implement anomaly detection algorithm and apply it to detect failing servers on a network. The data is from the favous Machine Learning Coursera Course by Andrew Ng. The lab exercises in that course are in Octave/Matlab. I am planning to do all the programming exercises in that course with **R** and I have started with anomaly detection."
   ]
  },
  {
   "cell_type": "markdown",
   "metadata": {},
   "source": [
    "First, we will start with 2D data and detect anomalous servers based on two features. \n",
    "We will plot the 2D data and see the algorithm's performance on a 2D plot. \n",
    "You can download the data for the first part of the exercise in RData format from\n",
    "<a href=\"data1.RData\">here</a>.\n",
    "\n",
    "The features measure the through-put (mb/s) and latency (ms) of response of each server. We have 307 measurements.\n",
    "We will use a gaussian (normal) model to detect anomalous examples in our dataset. \n",
    "We use multivariate normal distribution to detect servers with very low probabilities and hence can be \n",
    "considered anomalous (outliers). You can read about multivariate normal distribution from \n",
    "<a href =\"https://en.wikipedia.org/wiki/Multivariate_normal_distribution\" target =\"_blank\" >Wikipedia</a>.\n"
   ]
  },
  {
   "cell_type": "markdown",
   "metadata": {},
   "source": [
    "The probability density function (pdf) of a multivariate normal is \n",
    "$$f(x)=(2\\pi)^\\frac{-k}{2} |\\Sigma|^\\frac{-1}{2}e^{-1/2(x-\\mu)^{'} \\Sigma^{-1}(x-\\mu)}$$\n",
    "\n",
    "$\\Sigma $ is variance and $|\\Sigma|$ is determinant of the variance. $\\mu$ is mean and $k$ is number of columns of our data."
   ]
  },
  {
   "cell_type": "code",
   "execution_count": 3,
   "metadata": {
    "collapsed": false
   },
   "outputs": [],
   "source": [
    "library(magrittr)  # to use piping %>%\n",
    "library(ggplot2)   # for ploting\n",
    "library(MASS)      # to calculate the peseudo-inverse of a matrix\n",
    "library(caret)     # to center our data by subtracting its mean\n",
    "library(reshape2)  # for data manipulation"
   ]
  },
  {
   "cell_type": "code",
   "execution_count": 4,
   "metadata": {
    "collapsed": false
   },
   "outputs": [],
   "source": [
    "load(\"data1.RData\")"
   ]
  },
  {
   "cell_type": "code",
   "execution_count": 5,
   "metadata": {
    "collapsed": false
   },
   "outputs": [],
   "source": [
    "#All the variables below are matrices\n",
    "\n",
    "X=data1$X\n",
    "Xval=data1$Xval   # This is cross-validation data\n",
    "yval =data1$yval  # This shows which rows in Xval are anomalous"
   ]
  },
  {
   "cell_type": "code",
   "execution_count": 6,
   "metadata": {
    "collapsed": false
   },
   "outputs": [
    {
     "data": {
      "text/html": [
       "<table>\n",
       "<tbody>\n",
       "\t<tr><td>13.04682</td><td>14.74115</td></tr>\n",
       "\t<tr><td>13.40852</td><td>13.76327</td></tr>\n",
       "\t<tr><td>14.19591</td><td>15.85318</td></tr>\n",
       "\t<tr><td>14.91470</td><td>16.17426</td></tr>\n",
       "\t<tr><td>13.57670</td><td>14.04285</td></tr>\n",
       "\t<tr><td>13.92240</td><td>13.40647</td></tr>\n",
       "</tbody>\n",
       "</table>\n"
      ],
      "text/latex": [
       "\\begin{tabular}{ll}\n",
       "\t 13.04682 & 14.74115\\\\\n",
       "\t 13.40852 & 13.76327\\\\\n",
       "\t 14.19591 & 15.85318\\\\\n",
       "\t 14.91470 & 16.17426\\\\\n",
       "\t 13.57670 & 14.04285\\\\\n",
       "\t 13.92240 & 13.40647\\\\\n",
       "\\end{tabular}\n"
      ],
      "text/markdown": [
       "1. 13.0468151687048\n",
       "2. 13.4085201853932\n",
       "3. 14.1959148124549\n",
       "4. 14.914700765313\n",
       "5. 13.5766996051752\n",
       "6. 13.9224025075003\n",
       "7. 14.7411524132184\n",
       "8. 13.7632696002405\n",
       "9. 15.8531811298281\n",
       "10. 16.1742598671581\n",
       "11. 14.0428494375565\n",
       "12. 13.4064689366608\n",
       "\n",
       "\n"
      ],
      "text/plain": [
       "         [,1]     [,2]\n",
       "[1,] 13.04682 14.74115\n",
       "[2,] 13.40852 13.76327\n",
       "[3,] 14.19591 15.85318\n",
       "[4,] 14.91470 16.17426\n",
       "[5,] 13.57670 14.04285\n",
       "[6,] 13.92240 13.40647"
      ]
     },
     "metadata": {},
     "output_type": "display_data"
    }
   ],
   "source": [
    "head(X)"
   ]
  },
  {
   "cell_type": "code",
   "execution_count": 7,
   "metadata": {
    "collapsed": false
   },
   "outputs": [
    {
     "data": {
      "text/html": [
       "<table>\n",
       "<tbody>\n",
       "\t<tr><td>15.79026</td><td>14.92102</td></tr>\n",
       "\t<tr><td>13.63962</td><td>15.32996</td></tr>\n",
       "\t<tr><td>14.86590</td><td>16.47387</td></tr>\n",
       "\t<tr><td>13.58468</td><td>13.98931</td></tr>\n",
       "\t<tr><td>13.46404</td><td>15.63533</td></tr>\n",
       "\t<tr><td>12.94889</td><td>16.14007</td></tr>\n",
       "</tbody>\n",
       "</table>\n"
      ],
      "text/latex": [
       "\\begin{tabular}{ll}\n",
       "\t 15.79026 & 14.92102\\\\\n",
       "\t 13.63962 & 15.32996\\\\\n",
       "\t 14.86590 & 16.47387\\\\\n",
       "\t 13.58468 & 13.98931\\\\\n",
       "\t 13.46404 & 15.63533\\\\\n",
       "\t 12.94889 & 16.14007\\\\\n",
       "\\end{tabular}\n"
      ],
      "text/markdown": [
       "1. 15.7902597925918\n",
       "2. 13.6396187673199\n",
       "3. 14.8658994255692\n",
       "4. 13.5846760525026\n",
       "5. 13.4640416653962\n",
       "6. 12.9488883804739\n",
       "7. 14.921024303249\n",
       "8. 15.3299552127693\n",
       "9. 16.4738651394327\n",
       "10. 13.9893061065007\n",
       "11. 15.6353301123654\n",
       "12. 16.1400682821938\n",
       "\n",
       "\n"
      ],
      "text/plain": [
       "         [,1]     [,2]\n",
       "[1,] 15.79026 14.92102\n",
       "[2,] 13.63962 15.32996\n",
       "[3,] 14.86590 16.47387\n",
       "[4,] 13.58468 13.98931\n",
       "[5,] 13.46404 15.63533\n",
       "[6,] 12.94889 16.14007"
      ]
     },
     "metadata": {},
     "output_type": "display_data"
    }
   ],
   "source": [
    "head(Xval)"
   ]
  },
  {
   "cell_type": "code",
   "execution_count": 8,
   "metadata": {
    "collapsed": false
   },
   "outputs": [
    {
     "data": {
      "text/plain": [
       "yval\n",
       "  0   1 \n",
       "298   9 "
      ]
     },
     "metadata": {},
     "output_type": "display_data"
    }
   ],
   "source": [
    "table(yval)"
   ]
  },
  {
   "cell_type": "markdown",
   "metadata": {},
   "source": [
    "From the cross-validation data, we have only nine anomalous servers but there are 298 normal servers.The main reason we can not use supervised machine learning techniques in such scenarious is because we have only a small proportion of the data as anomalous."
   ]
  },
  {
   "cell_type": "markdown",
   "metadata": {},
   "source": [
    "We will use a gaussian model to detect anomalous examples in our dataset. So, first, let's check the distribution of the variables and see if they are approximately normally distributed. If they are not close to normal distribution, we have to use appropriate transformations to get good approximations of normal distribuions."
   ]
  },
  {
   "cell_type": "code",
   "execution_count": 9,
   "metadata": {
    "collapsed": false
   },
   "outputs": [
    {
     "name": "stderr",
     "output_type": "stream",
     "text": [
      "No id variables; using all as measure variables\n"
     ]
    }
   ],
   "source": [
    "X=as.data.frame(X)\n",
    "names(X)=c(\"Latency (ms)\", \"Throughput (mb/s)\")\n",
    "XX=melt(X)"
   ]
  },
  {
   "cell_type": "code",
   "execution_count": 13,
   "metadata": {
    "collapsed": false
   },
   "outputs": [
    {
     "data": {
      "image/png": "iVBORw0KGgoAAAANSUhEUgAAAtAAAADwCAMAAAAeuqOxAAAAWlBMVEUAAAAAv8QzMzNNTU1o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\nTkSuQmCC",
      "text/plain": [
       "plot without title"
      ]
     },
     "metadata": {
      "image/svg+xml": {
       "isolated": true
      }
     },
     "output_type": "display_data"
    }
   ],
   "source": [
    "XX%>%ggplot(aes(x=value,fill=variable, color=variable))+\n",
    "geom_density(alpha = 0.3)+ggtitle('Distibution of X')"
   ]
  },
  {
   "cell_type": "markdown",
   "metadata": {},
   "source": [
    "As we can see, normal distribution is a good approximation for our dataset and hence we do not need to perform any transformations.\n",
    "\n",
    "Next, let's see the distribution of the cross-validation data (Xval)."
   ]
  },
  {
   "cell_type": "code",
   "execution_count": 13,
   "metadata": {
    "collapsed": false
   },
   "outputs": [
    {
     "name": "stderr",
     "output_type": "stream",
     "text": [
      "No id variables; using all as measure variables\n"
     ]
    },
    {
     "data": {
      "image/png": "iVBORw0KGgoAAAANSUhEUgAAAtAAAAFoCAMAAABJ+DwrAAAAWlBMVEUAAAAAv8QzMzNNTU1o\naGh8fHyMjIyampqk3t+np6enxcWp4+StjIexz86ysrKy7O29vb3Hx8fQ0NDZ2dnh4eHp6enr\n6+vvyMXw8PDy8vL0zcr4dm391tP///9VlRETAAAACXBIWXMAABJ0AAASdAHeZh94AAAUrUlE\nQVR4nO2di5qjqhJG6TGXcZ/Z2elcZrJPju//mkfECygG0CJC5V/fN2njpUJXVjMlGiIqABgh\ntm4AAJRAaMAKCA1YAaEBKyA0YAWEBqyA0IAVEBqwAkIDVkBowAo+QgtFcby1T83Nj2O/drxp\nukcIj6MQu3a57Jd2onzR0sCXAP7wya3oKdXT8eb+cUYobY8QDvUr7rsn+9bjclg190IgCnxy\n22pyPwtxmt88WpzZI+x1b8OTeyGu9Y+rKO6vjlj0QsAHPrntNbkJ8XixmV5o/dlFFI/qUYiL\n9xGAFD65HTQpZRetnt6Osqq+tgXJUHKcCrG/aEfVP/Q95IFFV47Xa8pC7HRFh62iPawaXvxQ\nVyGy8HhoBXX9F1bu6tLkarYUkMMnt4Mmt9op9fTaVtWXkdBlX2vPCH3pD5Rr9v2yQts6Ebou\no89tAX1syg/Zivp0s9ADRkzDp8Mnt6Oaonm6E9/147fsKo2TwqJefSlk8TsIre9RVy2nunKo\nvb83u1+rx2E4zTO2TvSsy+i2gG7+sCp52nitTk1hf2qCQOiI8MmtTehJ4dyulZrXvpVzQpft\nYMVR7SK71Yde0mhbp3oeWo/bUkOVHmrx5SgLoIBPbm1CH+pK9/uubW6FUieNQ8c9Fnon1EH3\n0S4KY+tEz4vYddXJpTH+pP5+qtvltIfQseGTW13oon16byrX3bkaCT0cYRe6jzXaZfRKNj3v\nxe5RdIN2RdE9VOeiL7chdET45HbQ5NqfFNad5FFadHqf0Pu6e/7u6u2y7pxVN32uTy3L7zuE\njg2f3Oo17rcx6HHse+xRyTEr9PKSo5QjGu24nSqf983eOzGM2EHoiPDJrXZhpahMayb9r6xB\n6o5838l9mZwUNvd1dCeFZnxzq6nnpXltOUinyuiDOKpTxH40cHwEoIVPbltN5KXvvmZWw3al\nKkH6MTbRDHN8N1ep9+LwkCN4wtijLg1KNTB3swhtbDX0bK98D9e+r9349U42Sr0OhI4Jn9za\nbk5qL6xIuXb6hZVTv5/ao5TrtT1GF1aqqjI01Lcaeu7720hObRm9ay8XnrvGXSF0VPjkthVm\nV+q3j16bS9+ys7zt+kpaqEvfbV9arz8167U9xpe+tR/jrfp6/R679v7Rb1XeNKMcxfF60c5X\nQQyQW8AKCA1YAaEBKyA0YAWEBqyA0IAVEBqwAkIDVkBowAoIDVixUujfIyYrFkIVBw1yxmEG\nhH5vnOQaRKNROkDo98ZJrkE0GqWDl9BFoT4X1z0dFqOlmSgOGuSMwwwfoYv+QT2F0AkEgtB2\nwoUu0EOnEAhC2wkWukDJkUQgCG1nudA/JJFaBcBCQoUuKvTQSQRCD20nUOjR+SGE3iwQhLYT\nKrSi3xQtzURx0CBnHGYsGLZDD51CIAhtB0L78fVFFCi1DBH7tDlBVwq1E8OWaGkmikMV6Ouf\nn0RGp5YheqW2BfdyeAGhcwFC+/D185+fREanliEajdIBQvsAobMBQvvQCE1jdGoZotEoHSC0\nB18/IXQuQGgPIHQ+QGgPIHQ+QGg3tc8QOhcgtBsInREQ2k0nNInRqWWIRqN0gNBuIHRGQGg3\nEDojILQbCJ0RENpNLzSF0alliEajdIDQbiB0RkBoK8/nsCx9htC5AKFtPP/8GYyG0DkBoS3U\nPmtGa0ITGJ1ahmg0SgcIbaERujcaQucEhLaghG6NbnyG0LkAoae0PkPoHIHQUzqhldEQOisg\n9JRe6D/P59MUer3RqWWIRqN0gNBTBqFrlM8QOhfwtW5Tnv/T+PrH4GvrxoHXoIeeYvbQv9BD\n5wSEngKhMwZCTzB8/vP11y8InREQeoLZQf8FobMCQk+A0DkDoSeMhW6MhtCZAKEnQOicgdBj\nxueEEDorIPSY10KvNjq1DNFolA4QegyEzhoIPQZCZw2EHgOhswZCjzB9htC5AaFHTDtoCJ0T\nEHqERWhpNITOBAg9wiX0WqNTyxCNRukAoUdA6LyB0CMgdN5AaBPLIAeEzgkIbWLroCF0RkBo\nE6vQtdEQOhMgtIlb6JVGp5YhGo3SAUKbQOjMgdAmEDpzILQJhM4cCG0CoTPHS+iixrbMXejO\n59poCJ0JPkIX/YO5XEHo+A2KHocZENrEQ+h1RqeWIXqltiVU6MpcjpZmojgQ2hmHGcuF/iGJ\n0aRNMafS/bvjF6bUzYRwoVmfFNoHOdBD5wNKDgMInTsQ2mCmhIbQ2YBRDoM5odUUpBA6fSC0\nAYTOnaArhYW2rIiWZqI4ENoZhxm4l8MAQucOhNaZG+SA0NkAoXUgdPZAaB0InT0QWgdCZw+E\n1oHQ2QOhdfyEXmV0ahmi0SgdILQOhM4eCK0DobMHQmtYJ7aD0FkBoTUgdP5AaA0InT8QWgNC\n5w+E1pg/J/zrb6qB6NQyRKNROkBoDV+h1xidWoZoNEoHCK0BofMHQmtA6PyB0BoQOn8g9MCL\nQQ4InQsQegBCMwBCD0BoD1+E/ZlYKRIZEHrgpdBUl1ZSy1CoLxB6WZqJ4qwQ2vAZQtvtgdC+\naSaKA6GdcSw8xK75uRO36noQoiilKeJW7JW42rrqIPb3qhX6cRTi+Fhn1FpS+cNKAWMqXW0u\n3c+bUfcgpKT32uuLaCilsntxbMTV19Vqi+LRCl3I1bttm44eegA9dMdF2lqV4lJ30t9VdZO6\nNgY34urr9o9qr9SuqpNcKMV5nVIrgdADELpnp2Z9k4v3y2mv5O1LC3Od7Mhb0RujDuuUWgmE\nHoDQPWdxra7iVC/tVX3Rqdw8Wtapf936DYHQAxC651GXy6Woa+Oj2J0vd1Ne2zoI7UgzUZxY\nQi83OrUMzbyxR3Fvagc1ejGVt1s3LTk2ZtqG3enqf3i0NBPFIRSaqItOLUMzb+y17mmlB/Lx\nsR8LPazby6WTWl/Kk8LvetWWTIWW4zDHi+fh0dJMFGe50KbPHyd03d0242+lmNbL+jp92O7R\nDNuJ2xIPyZgK/fiWjRT777vH4dHSTBQHQjvjzHCWY3OVrD3E/jo6KdTXHcShH/24NxuWaEiH\nvey5lPKPbefup6OlmSgOhHbGYcZMHX9X/604y6FoaSaKA6GdcZhhFfp2aLrn6945SB4tzURx\nILQzDjMsQl/2fbXhHFOMlmaiOCGBXg1yQOhcsAzb1aeu3YmqKCabTaKlmSgOhHbGYYZl2K4M\nGHeJlmaiOBDaGYcZlmG7kMOjpZkoDqXQNLP4p5YhMpMSwXZhRf0sXOWGJFqaieIsFnrk86cJ\n/e9znuWyvYOR0IXQ8Dg8WpqJ4kBoZxwr/z7/O0deQp81n31u1I6WZqI4ENoZxwoboavAjztG\nSzNRHAjtjGOFk9BBREszURwI7YxjhY3Qdff8qTX0y0GOidCLjU4tQ/b3FUJTp5koDoR2xrHC\nRuhQoqWZKA6EdsaxAqGp00wUB0I741hhJfS5kJ/AKU4+h0dLM1EcCO2MY4WT0Oe6eL7LCyw+\nRkdLM1EcCO2MY8Up9OL/2ecOpPqAre1uu2v973xz3mkniZZmojgQ2hnHSrDQvj7O70dktPXC\nyqX7YHpLUQw3dujLnyz0UqNTy5BdC05CF+J+lLNODj100T+YyxWEjtmgN8Wx4i909/Hv4bFq\nhn61bdoBanXV7T3sZFVxCdMoJ/nB9G5uvgYIDaHnhG4NrYS+LIZ10l7tgOGT46OdrCouwRKl\nFMWllrb3eSwxT6FfTd8PoV+XHGOh9Z+Vtm2ir9ADRRN6gl3oHxKSNiSBOTn0ZHboyQzRvKeI\nDhB6qCv66WfaHbyEHs7VthOa5UkhemidgBq6MnvoytL5iskmo8qIXENXZTG6lwNCK6FJxu1S\ny5Bdi+U1dBUudOQaupu5bFZovfiIlmaiOBGFXmh0ahmyaxEktNCFHpcc7bCHrtu0ho4qdDH5\nqIoptHG9JVqaieIsFXrsM4QeCz3M1yiqbgyuH7arhqLatMzcbuxENK/0NMo0sCG0ef0wWpqJ\n4kBoZxwrxPdy+Axl0PhsCXMQk4kMuquDhVos+A/bQWg+Qt+Lvc9EuopoaSaKA6GdcayQCm38\nnz/nLZHP1pLjEz+x4jgnhNCreug3AqEVENqAk9BBREszUZyYQi8zOrUM2d9XCE2dZqI4ENoZ\nxwqbqcAazoe63Nh7zUEaLc1EcWiFpqg5UssQsU+bMxX6sWvqZ/WtXi6ipZkozkKhJz5/mtD/\nfs2zTrjYTIU+ilIOtPh931y0NBPFgdDOOFb+/frPHNkJPXzRrcfh0dJMFAdCO+NYgdDUaSaK\nA6GdcaxwErotOUpx9Dg8WpqJ4kBoZxwrnIRuv+BWFB/1TbIQ2oCT0FV12gmxK72+ayVamoni\nQGhnHCu8hA4gWpqJ4kBoZxwrEJo6zURxILQzjhU2QuvfGYRRjonQBEanliH7++oSenDEq0d0\n7zTew3YH9ZKXgtB2nyH0tIcO+Ky28yboyQ5WjX1ey7LPQd7gf9+7vre+IVqaieL4BnJ10BB6\nK6F9Phzw+qW6j2AJH6OjpZkoDoR2xrESIvQwoZ31Y7Lqo93mrHeiP1L7qzCmvBvmx6tsH7ad\nZ/ZDso+PKjkgtEmA0K2ghsj6TyGmOxn79ccJW7jQmQ6mu+yFKjnQQ0No35JjbF3Qz2qi7PhP\n4oWtE6a73D/xSuEyoZcYnVqG7O9rUkIHTX9n2eVRyiuFp4+6UgihTdISuld6mdAhREszURwI\n7YxjJTWh19TQH8nTOZeubUZdvlPqEggtRj/HJ4XitdBqz+kGF+ihJc4Ouuuh158VppYh+/u6\nUGhtojrRWivM/tbc3g/HiWosdKV/nUXA9HcQWgKhR1DeyyGsi7P7+EVatc8LoqWZKE5koRcY\nnVqG7O8rkdDjOgFCvykQhB5B1UOPbgmat43MVQgtgdAj2Nw+Gkq0NBPFgdDOOFYgNHWaieJA\naGccKxCaOs1EcfwCueYBmxc63OjUMmR/XyE0dZqJ4kBoZxwrnKYCCyJamoniQGhnHGZA6N8Q\nmhMQ+jeE5gSE/g2hOQGhJz5D6JyB0BCaFRAaQrMCQkNoVkBor3NCCJ0LEDpM6NU3c6SWIRqN\n0gFCQ2hWQOh1QgcbnVqGaDRKBwgNoVkBoSE0KyC016gdhM4FCA2hWQGhvSoOCJ0LXkIXNdoz\nbUu0NBPFiS90qNGpZYjYp83xEbroH5oFZkJ7VRyD0Gu76NQyRC3U1gQLXXDroSE0K8J7aAgN\noRNmudA/JDGa9GbMmXRfzaVrnVGX75S6efLxPfS4g0YPnTcQ2stnCJ0LEHqt0IFGp5YhYp82\nB0JDaFZ8utCeJTSEzoWgK4VK5Q8XemURnVqG6JXalk+/lwNCMwNCQ2hWfLjQvj5D6FyA0KuF\nDjM6tQzRaJQOEBpCswJCQ2hWQOhgodcV0alliEajdIDQEJoVEBpCs+KzhZ74DKFzB0JDaFZA\naAjNCggNoVnx0UL7+wyhcwFCQ2hWQGgIzQoIDaFZ8clCT31eJnSQ0alliEajdIDQXj5D6FyA\n0OFCr6o5UssQjUbpAKEhNCs+WOiQEhpC5wKE9vIZQucChCYQOsTo1DJEo1E6rBQ6Z8bz6Lpn\n0sWUuumDHnpBD72m5kgtQzQapQOE9vIZQucChIbQrPhcoYMqDgidCxB6idArjE4tQzQapQOE\nhtCs+Fihg64TQuhsgNAQmhUQ2stnCJ0LEHqR0MuNTi1DNBqlw6cKHegzhM4FCA2hWQGhITQr\nPlToUJ8hdC5AaAjNCgjt5fNE6LHREDoRIDSEZgWEXij0yGgInQifKXRwCe0U2tvo1DJEo1E6\nQGgvnyF0Lnyk0OE+W4ReWHOkliEajdIBQi8WepnRqWWIRqN0+EShxz5/uX2G0LkAob18htC5\nwEvop0+gZy+ywkNnu9CLjIbQcWEk9PP5/PMcKz0vtKfJr4T+69cvD6GfklW/mQ0IbcdL6KLG\ntpyU0E8l6kjpOaHDdJ4T2uykrUZ3zVrxm1mB0HZ8hC76B3O5sgv9nHSTC9Jc/2vqAe8jhsLY\nePWuhUOsp9+whq/QHTNCN7+E/odmFXH+N53dEi60/X2hV2pbYgg96SbDqeQ7KR3xVPqpnegZ\nL960UMVSwZ4LuucXQutiT4xuC3RDaYuIWusmx89sCRdaZghCK8KFlu/eGqfbd/Ln7Ns5frPM\ngQvtxSsj1s+A08AwoZXUelPr1/nVb2qcbpo1StnX6Ff9mt0y+p1DhH62CYLQCrvQPyS23b9A\nqpAokzYRemgK4n/qe6M4yTWIXqltgdDvjZNcg+iV2hYI/d44yTWIXqltgdDvjZNcg+iV2hYI\n/d44yTWIXqltCbpSWGjLimhpJoqDBjnjMIPRvRxRA7FtEI1G6QCh3xsnuQbRaJQOEPq9cZJr\nEI1G6QCh3xsnuQbRaJQOEPq9cZJrEI1G6UD81cjWmzu2BA36MCD0m0muQcyA0G8muQYxA0K/\nmeQaxAwI/WaSaxAziIUGYFsgNGAFhAasgNCAFRAasIJUaPNe6c1RbUmmUf1d5ak0iCWUQo8+\nzbI1w4cSkmhU15BkGsQTvkIXFYT+QPgKXSUmdAOEjg2EfisQOjYQ+p0UVWIN4geEficQOjoQ\n+o0k1yCGQOj3UQyPaTSIIxD6bdjnngK04ErhuyiKtiWpNIgnuJcDsAJCA1ZAaMAKCA1YAaEB\nKyA0YAWEBqyA0IAVEBqwAkK/QiA9uYF37BUQOjvwjr0CQmcH3rGWh9g1P3fiVl0PQhRlpYRW\nUjePj6MQx8eGjQROIHTHQdzrx3vt9UU0lBOhC7l6t20zwWsgdMdFGlyV4lJ30t9VdetkHoQ+\nyT1Kcd64oeAVELpnp25Wlov3y2k/FXqnlg4bthG4gNA9Z3GtruJUL+1VzTEWWohuPUgWvDs9\nD3GsC4r6nO8odufLHUJnCd6dgaO4N/WEGtEwhL4PJQdIGrxHA9e6971WUuFr9ehr6KI+RVTP\nSnlS+C32W7cTvABCa+zUmFwp9Bq6eXaSS49m2E7ctm4meAGE1jjL8bpK1h5if+3LjbKozxRV\n4dFs2LSJwAGEBqyA0IAVEBqwAkIDVkBowAoIDVgBoQErIDRgBYQGrIDQgBUQGrACQgNW/B8L\n3gg5eVtrkwAAAABJRU5ErkJggg==",
      "text/plain": [
       "plot without title"
      ]
     },
     "metadata": {
      "image/svg+xml": {
       "isolated": true
      }
     },
     "output_type": "display_data"
    }
   ],
   "source": [
    "Xval=as.data.frame(Xval)\n",
    "names(Xval)=c(\"Latency (ms)\", \"Throughput (mb/s)\")\n",
    "XXval = melt(Xval)\n",
    "\n",
    "XXval%>%ggplot(aes(x=value,fill=variable, color=variable))+\n",
    "geom_density(alpha = 0.3)+ggtitle('Distibution of Xval')"
   ]
  },
  {
   "cell_type": "markdown",
   "metadata": {},
   "source": [
    "The variables in Xval are also close to gaussian distribution. So, we do not need any transformation. "
   ]
  },
  {
   "cell_type": "markdown",
   "metadata": {
    "collapsed": false
   },
   "source": [
    "Now, let's create a 2D plot and see the distribution of Latency and Throughput."
   ]
  },
  {
   "cell_type": "code",
   "execution_count": 14,
   "metadata": {
    "collapsed": false
   },
   "outputs": [
    {
     "data": {
      "image/png": "iVBORw0KGgoAAAANSUhEUgAAAtAAAAFoCAMAAABJ+DwrAAAAOVBMVEUAAAAAAP8zMzNNTU1o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\nQWiSVBCaJJX/AZqm9UXMmOCfAAAAAElFTkSuQmCC",
      "text/plain": [
       "plot without title"
      ]
     },
     "metadata": {
      "image/svg+xml": {
       "isolated": true
      }
     },
     "output_type": "display_data"
    }
   ],
   "source": [
    "X%>%ggplot(aes(x=`Latency (ms)`,y=`Throughput (mb/s)`))+\n",
    "             geom_point(color='blue')"
   ]
  },
  {
   "cell_type": "markdown",
   "metadata": {},
   "source": [
    "From the 2D plot above, we can visually detect the outliers and let's see if our algirithm can detect them. Remeber, the main advantage of anomaly detection algortims is specially when we have more than two measured features which is the case most of the time."
   ]
  },
  {
   "cell_type": "markdown",
   "metadata": {},
   "source": [
    "<br/>"
   ]
  },
  {
   "cell_type": "markdown",
   "metadata": {},
   "source": [
    "Again, the probability density finction (PDF) is given by\n",
    "$$PDF=(2\\pi)^\\frac{-k}{2} |\\Sigma|^\\frac{-1}{2}e^{-1/2(x-\\mu)^{'} \\Sigma^{-1}(x-\\mu)}$$\n",
    "\n",
    "$\\Sigma $ is variance and $|\\Sigma|$ is determinant of the variance."
   ]
  },
  {
   "cell_type": "markdown",
   "metadata": {},
   "source": [
    "In the PDF above, we have $(x-\\mu)$, so, let's use the `caret` package to subtract the mean from the data points. This is called centering."
   ]
  },
  {
   "cell_type": "code",
   "execution_count": 15,
   "metadata": {
    "collapsed": true
   },
   "outputs": [],
   "source": [
    "# Create preProcess object\n",
    "preObj <- preProcess(X,method=\"center\")\n",
    "\n",
    "\n",
    "# Center the data- subtract the column means from the data points\n",
    "X2 <- predict(preObj,X)"
   ]
  },
  {
   "cell_type": "markdown",
   "metadata": {
    "collapsed": false
   },
   "source": [
    "Now,let's calculate variance. We will make it a diagonal matrix."
   ]
  },
  {
   "cell_type": "code",
   "execution_count": 16,
   "metadata": {
    "collapsed": false
   },
   "outputs": [
    {
     "data": {
      "text/html": [
       "<dl class=dl-horizontal>\n",
       "\t<dt>Latency (ms)</dt>\n",
       "\t\t<dd>1.83862040504188</dd>\n",
       "\t<dt>Throughput (mb/s)</dt>\n",
       "\t\t<dd>1.7153327338707</dd>\n",
       "</dl>\n"
      ],
      "text/latex": [
       "\\begin{description*}\n",
       "\\item[Latency (ms)] 1.83862040504188\n",
       "\\item[Throughput (mb/s)] 1.7153327338707\n",
       "\\end{description*}\n"
      ],
      "text/markdown": [
       "Latency (ms)\n",
       ":   1.83862040504188Throughput (mb/s)\n",
       ":   1.7153327338707\n",
       "\n"
      ],
      "text/plain": [
       "     Latency (ms) Throughput (mb/s) \n",
       "         1.838620          1.715333 "
      ]
     },
     "metadata": {},
     "output_type": "display_data"
    }
   ],
   "source": [
    "X2= as.matrix(X2)\n",
    "sigma2=diag(var(X2))\n",
    "sigma2"
   ]
  },
  {
   "cell_type": "code",
   "execution_count": 17,
   "metadata": {
    "collapsed": false
   },
   "outputs": [
    {
     "data": {
      "text/html": [
       "<table>\n",
       "<tbody>\n",
       "\t<tr><td>1.83862</td><td>0.00000</td></tr>\n",
       "\t<tr><td>0.000000</td><td>1.715333</td></tr>\n",
       "</tbody>\n",
       "</table>\n"
      ],
      "text/latex": [
       "\\begin{tabular}{ll}\n",
       "\t 1.83862 & 0.00000\\\\\n",
       "\t 0.000000 & 1.715333\\\\\n",
       "\\end{tabular}\n"
      ],
      "text/markdown": [
       "1. 1.83862040504188\n",
       "2. 0\n",
       "3. 0\n",
       "4. 1.7153327338707\n",
       "\n",
       "\n"
      ],
      "text/plain": [
       "        [,1]     [,2]\n",
       "[1,] 1.83862 0.000000\n",
       "[2,] 0.00000 1.715333"
      ]
     },
     "metadata": {},
     "output_type": "display_data"
    }
   ],
   "source": [
    "sigma2=diag(sigma2)\n",
    "sigma2"
   ]
  },
  {
   "cell_type": "markdown",
   "metadata": {},
   "source": [
    "Now, let's calculate the probabilities using the multivariate normal distribution equation given above."
   ]
  },
  {
   "cell_type": "code",
   "execution_count": 18,
   "metadata": {
    "collapsed": false
   },
   "outputs": [],
   "source": [
    "A=(2*pi)^(-ncol(X2)/2)*det(sigma2)^(-0.5)\n",
    "\n",
    "B = exp(-0.5 *rowSums((X2%*%ginv(sigma2))*X2))\n",
    "p=A*B"
   ]
  },
  {
   "cell_type": "markdown",
   "metadata": {},
   "source": [
    "#### Now, let's explore the probabilities"
   ]
  },
  {
   "cell_type": "code",
   "execution_count": 19,
   "metadata": {
    "collapsed": false
   },
   "outputs": [
    {
     "data": {
      "image/png": "iVBORw0KGgoAAAANSUhEUgAAAtAAAAFoCAMAAABJ+DwrAAAAOVBMVEUAAAAzMzNNTU1oaGh8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\noUEU/wc/Me1gH4nCNAAAAABJRU5ErkJggg==",
      "text/plain": [
       "plot without title"
      ]
     },
     "metadata": {
      "image/svg+xml": {
       "isolated": true
      }
     },
     "output_type": "display_data"
    }
   ],
   "source": [
    "p= p%>%as.data.frame()\n",
    "names(p)= c('probability')\n",
    "p%>%ggplot(aes(probability))+geom_density(fill='skyblue')+\n",
    "ggtitle('Distibution of calculated probabilities')"
   ]
  },
  {
   "cell_type": "markdown",
   "metadata": {},
   "source": [
    "From the density plot above, we see there are some computer servers with very low probabilities which could be outliers. \n",
    "\n",
    "We can also plot a box plot of the probabilities. Here, I am also showing the points and this helps us to see the probabilities of each server."
   ]
  },
  {
   "cell_type": "code",
   "execution_count": 21,
   "metadata": {
    "collapsed": false
   },
   "outputs": [
    {
     "data": {
      "image/png": "iVBORw0KGgoAAAANSUhEUgAAAtAAAAFoCAMAAABJ+DwrAAAANlBMVEUAAAAzMzNNTU1oaGh8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\nVdjhHZsAAAAASUVORK5CYII=",
      "text/plain": [
       "plot without title"
      ]
     },
     "metadata": {
      "image/svg+xml": {
       "isolated": true
      }
     },
     "output_type": "display_data"
    }
   ],
   "source": [
    "p%>%ggplot(aes(y=probability,x=1))+geom_boxplot()+\n",
    "geom_jitter()+xlab('')+ggtitle(\"Box plot of calculated probabilities\")"
   ]
  },
  {
   "cell_type": "markdown",
   "metadata": {
    "collapsed": false
   },
   "source": [
    "We can also create a contour plot of the probabilities and see where the servers with highest probabilities are located."
   ]
  },
  {
   "cell_type": "code",
   "execution_count": 22,
   "metadata": {
    "collapsed": false
   },
   "outputs": [
    {
     "data": {
      "image/png": "iVBORw0KGgoAAAANSUhEUgAAAtAAAAFoCAMAAABJ+DwrAAAAOVBMVEUAAAAzMzNNTU1oaGh8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\n",
      "text/plain": [
       "plot without title"
      ]
     },
     "metadata": {
      "image/svg+xml": {
       "isolated": true
      }
     },
     "output_type": "display_data"
    }
   ],
   "source": [
    "X= cbind(X,p)\n",
    "\n",
    "ggplot(X, aes(x=`Latency (ms)`, y=`Throughput (mb/s)`, z=`probability`))+ \n",
    "geom_point()+ stat_density2d(color='red')"
   ]
  },
  {
   "cell_type": "markdown",
   "metadata": {},
   "source": [
    "From the contour plot shown above, we see that most points are near the center and the contours show relatively higher probabilities in this region. We can see that the outliers are dispersed far away from the center of mass. When we are working with 2D data, we may be able to identify the outliers visually but this techniques is specially very useful when we are working with data with more than two dimensions"
   ]
  },
  {
   "cell_type": "markdown",
   "metadata": {},
   "source": [
    "To determine which of the points shown in the figure above are anomalous,we have to use cross-validation. From cross-validation, we can get the cut-off probability to classify the servers as normal or anomalous. In <code>data1.RData</code>,<strong>Xval</strong> is the validation data and <strong>yval</strong> is the actual observation of the validation data (whether the servers were anomalous or not).We will use <strong>F1 score</strong> measure to get the threshould probability and also the accuracy of our model.</"
   ]
  },
  {
   "cell_type": "markdown",
   "metadata": {},
   "source": [
    "First, let's remove mean of each column from Xval."
   ]
  },
  {
   "cell_type": "code",
   "execution_count": 23,
   "metadata": {
    "collapsed": false
   },
   "outputs": [],
   "source": [
    "# Create preProcess object\n",
    "Xval = as.data.frame(Xval)\n",
    "preObj <- preProcess(Xval,method=\"center\")\n",
    "\n",
    "# Center the data- subtract the column means from the data points\n",
    "\n",
    "Xval_centered <- predict(preObj,Xval)"
   ]
  },
  {
   "cell_type": "markdown",
   "metadata": {},
   "source": [
    "Then, calculate its variance."
   ]
  },
  {
   "cell_type": "code",
   "execution_count": 24,
   "metadata": {
    "collapsed": false
   },
   "outputs": [
    {
     "data": {
      "text/html": [
       "<table>\n",
       "<tbody>\n",
       "\t<tr><td>2.526098</td><td>0.000000</td></tr>\n",
       "\t<tr><td>0.000000</td><td>1.631331</td></tr>\n",
       "</tbody>\n",
       "</table>\n"
      ],
      "text/latex": [
       "\\begin{tabular}{ll}\n",
       "\t 2.526098 & 0.000000\\\\\n",
       "\t 0.000000 & 1.631331\\\\\n",
       "\\end{tabular}\n"
      ],
      "text/markdown": [
       "1. 2.52609832838412\n",
       "2. 0\n",
       "3. 0\n",
       "4. 1.63133050547557\n",
       "\n",
       "\n"
      ],
      "text/plain": [
       "         [,1]     [,2]\n",
       "[1,] 2.526098 0.000000\n",
       "[2,] 0.000000 1.631331"
      ]
     },
     "metadata": {},
     "output_type": "display_data"
    }
   ],
   "source": [
    "Xval_centered = as.matrix(Xval_centered)\n",
    "sigma2=diag(var(Xval_centered))\n",
    "sigma2 = diag(sigma2)\n",
    "sigma2"
   ]
  },
  {
   "cell_type": "markdown",
   "metadata": {},
   "source": [
    "Now, let's calculate **pval** of the cross-validation data **Xval**."
   ]
  },
  {
   "cell_type": "code",
   "execution_count": 25,
   "metadata": {
    "collapsed": false
   },
   "outputs": [],
   "source": [
    "A=(2*pi)^(-ncol(Xval_centered)/2)*det(sigma2)^(-0.5)\n",
    "\n",
    "B = exp(-0.5 *rowSums((Xval_centered%*%ginv(sigma2))*Xval_centered))\n",
    "pval = A*B"
   ]
  },
  {
   "cell_type": "markdown",
   "metadata": {},
   "source": [
    "For cross-validation, let's use `F1 score`, which uses `precision` and `recall`. `Precision` and `rcall` in turn are calculated using `true positive`, `false positive` and `false negative` as defined below."
   ]
  },
  {
   "cell_type": "markdown",
   "metadata": {},
   "source": [
    "**tp** is the number of true positives: the ground truth label says it's an\n",
    "anomaly and our algorithm correctly classied it as an anomaly.\n",
    "\n",
    " **fp** is the number of false positives: the ground truth label says it's not\n",
    "an anomaly, but our algorithm incorrectly classied it as an anomaly.\n",
    "\n",
    " **fn** is the number of false negatives: the ground truth label says it's an\n",
    "anomaly, but our algorithm incorrectly classied it as not being anoma-\n",
    "lous.\n",
    "\n",
    "\n",
    "The F1 score is computed using precision (prec) and recall (rec):\n",
    "\n",
    "$$prec = \\frac{tp}{tp+fp}$$\n",
    "\n",
    "$$rec = \\frac{tp}{tp+fn}$$\n",
    "\n",
    "$$F1 = 2.\\frac{prec.rec}{prec+rec}$$\n"
   ]
  },
  {
   "cell_type": "markdown",
   "metadata": {},
   "source": [
    "The code chunk below calculated the probability cutt-off value for the maximum possible `F1 score` through cross-validation."
   ]
  },
  {
   "cell_type": "code",
   "execution_count": 26,
   "metadata": {
    "collapsed": false
   },
   "outputs": [
    {
     "name": "stdout",
     "output_type": "stream",
     "text": [
      "\n",
      " bestF1 = 0.875\n",
      " bestEpsilon = 2e-04"
     ]
    }
   ],
   "source": [
    "bestEpsilon = 0\n",
    "bestF1 = 0\n",
    "F1 = 0\n",
    "\n",
    "stepsize = (max(pval) - min(pval)) / 1000\n",
    "\n",
    "for (epsilon in seq(from =min(pval), by= stepsize,to =max(pval))){\n",
    "\n",
    "    predictions = (pval < epsilon)*1\n",
    "  \n",
    "    tp = sum((predictions == 1) & (yval == 1))\n",
    "    fp = sum((predictions == 1) & (yval == 0))\n",
    "    fn = sum((predictions == 0) & (yval == 1))\n",
    "    prec = tp / (tp + fp)\n",
    "    rec = tp / (tp + fn)\n",
    "    F1 = (2 * prec * rec) / (prec + rec)\n",
    "    \n",
    " if (!is.na(F1)& (F1 > bestF1)==TRUE){\n",
    "       bestF1 = F1\n",
    "       bestEpsilon = epsilon\n",
    "    \n",
    "}\n",
    "   }\n",
    "\n",
    "cat(\"\\n bestF1 =\",round(bestF1,4))\n",
    "cat(\"\\n bestEpsilon =\",round(bestEpsilon,4))"
   ]
  },
  {
   "cell_type": "markdown",
   "metadata": {},
   "source": [
    "So, from the result above, the `best F1 score` from the cross-validation is 0.875. We can use the `bestEpsilon` above as cut-off to classify probability to classify the servers as anomalous or normal."
   ]
  },
  {
   "cell_type": "code",
   "execution_count": 27,
   "metadata": {
    "collapsed": false
   },
   "outputs": [
    {
     "data": {
      "text/html": [
       "<table>\n",
       "<thead><tr><th></th><th scope=col>Latency (ms)</th><th scope=col>Throughput (mb/s)</th><th scope=col>probability</th><th scope=col>outliers</th></tr></thead>\n",
       "<tbody>\n",
       "\t<tr><th scope=row>1</th><td>13.0468151687048  </td><td>14.7411524132184  </td><td>0.0645666528169585</td><td>FALSE             </td></tr>\n",
       "\t<tr><th scope=row>2</th><td>13.4085201853932  </td><td>13.7632696002405  </td><td>0.0502352510157861</td><td>FALSE             </td></tr>\n",
       "\t<tr><th scope=row>3</th><td>14.1959148124549</td><td>15.8531811298281</td><td>0.0722651610036 </td><td>FALSE           </td></tr>\n",
       "\t<tr><th scope=row>4</th><td>14.914700765313   </td><td>16.1742598671581  </td><td>0.0502467728286949</td><td>FALSE             </td></tr>\n",
       "\t<tr><th scope=row>5</th><td>13.5766996051752  </td><td>14.0428494375565  </td><td>0.0635488729469846</td><td>FALSE             </td></tr>\n",
       "\t<tr><th scope=row>6</th><td>13.9224025075003  </td><td>13.4064689366608  </td><td>0.0424235784705763</td><td>FALSE             </td></tr>\n",
       "</tbody>\n",
       "</table>\n"
      ],
      "text/latex": [
       "\\begin{tabular}{r|llll}\n",
       "  & Latency (ms) & Throughput (mb/s) & probability & outliers\\\\\n",
       "\\hline\n",
       "\t1 & 13.0468151687048   & 14.7411524132184   & 0.0645666528169585 & FALSE             \\\\\n",
       "\t2 & 13.4085201853932   & 13.7632696002405   & 0.0502352510157861 & FALSE             \\\\\n",
       "\t3 & 14.1959148124549 & 15.8531811298281 & 0.0722651610036  & FALSE           \\\\\n",
       "\t4 & 14.914700765313    & 16.1742598671581   & 0.0502467728286949 & FALSE             \\\\\n",
       "\t5 & 13.5766996051752   & 14.0428494375565   & 0.0635488729469846 & FALSE             \\\\\n",
       "\t6 & 13.9224025075003   & 13.4064689366608   & 0.0424235784705763 & FALSE             \\\\\n",
       "\\end{tabular}\n"
      ],
      "text/plain": [
       "  Latency (ms) Throughput (mb/s) probability outliers\n",
       "1     13.04682          14.74115  0.06456665    FALSE\n",
       "2     13.40852          13.76327  0.05023525    FALSE\n",
       "3     14.19591          15.85318  0.07226516    FALSE\n",
       "4     14.91470          16.17426  0.05024677    FALSE\n",
       "5     13.57670          14.04285  0.06354887    FALSE\n",
       "6     13.92240          13.40647  0.04242358    FALSE"
      ]
     },
     "metadata": {},
     "output_type": "display_data"
    }
   ],
   "source": [
    "X$outliers= X$probability < bestEpsilon\n",
    "X$outliers=as.factor(X$outliers)\n",
    "head(X)"
   ]
  },
  {
   "cell_type": "markdown",
   "metadata": {},
   "source": [
    "Let's see how many outliers we have according to our model."
   ]
  },
  {
   "cell_type": "code",
   "execution_count": 28,
   "metadata": {
    "collapsed": false
   },
   "outputs": [
    {
     "data": {
      "text/plain": [
       "\n",
       "FALSE  TRUE \n",
       "  301     6 "
      ]
     },
     "metadata": {},
     "output_type": "display_data"
    }
   ],
   "source": [
    "table(X$outliers)"
   ]
  },
  {
   "cell_type": "markdown",
   "metadata": {},
   "source": [
    "We see that we have six outliers and 301 normal servers."
   ]
  },
  {
   "cell_type": "markdown",
   "metadata": {},
   "source": [
    "Let's visualize which servers are outliers."
   ]
  },
  {
   "cell_type": "code",
   "execution_count": 29,
   "metadata": {
    "collapsed": false
   },
   "outputs": [
    {
     "data": {
      "image/png": "iVBORw0KGgoAAAANSUhEUgAAAtAAAAFoCAMAAABJ+DwrAAAAP1BMVEUAAAAAv8QzMzNNTU1o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\nSUVORK5CYII=",
      "text/plain": [
       "plot without title"
      ]
     },
     "metadata": {
      "image/svg+xml": {
       "isolated": true
      }
     },
     "output_type": "display_data"
    }
   ],
   "source": [
    "X%>%ggplot(aes(x=`Latency (ms)`,y=`Throughput (mb/s)`))+\n",
    "             geom_point(aes(color=outliers))+ggtitle('Anomaly Detection')"
   ]
  },
  {
   "cell_type": "markdown",
   "metadata": {},
   "source": [
    "As we can see from the figure, the results of our model make sense and now we can use it for data with any number of features."
   ]
  },
  {
   "cell_type": "markdown",
   "metadata": {},
   "source": [
    "###  Multidimensional Outliers "
   ]
  },
  {
   "cell_type": "markdown",
   "metadata": {},
   "source": [
    "We will now use the code from the previous part on a more realistic and much harder dataset. In this dataset, each example is described by 11 features, capturing many more\n",
    "properties of our compute servers. You can download the RData from \n",
    "<a href=\"data2.RData\">here</a>.\n","
   ]
  },
  {
   "cell_type": "code",
   "execution_count": 9,
   "metadata": {
    "collapsed": false
   },
   "outputs": [],
   "source": [
    "load(\"data2.RData\")"
   ]
  },
  {
   "cell_type": "code",
   "execution_count": 10,
   "metadata": {
    "collapsed": false
   },
   "outputs": [],
   "source": [
    "X=data2$X         # has 11 columns\n",
    "Xval=data2$Xval   # This is cross-validation data\n",
    "yval =data2$yval  # This shows which rows in Xval are anomalous"
   ]
  },
  {
   "cell_type": "markdown",
   "metadata": {},
   "source": [
    "First, let's explore the distribution of the variables."
   ]
  },
  {
   "cell_type": "code",
   "execution_count": 15,
   "metadata": {
    "collapsed": false
   },
   "outputs": [
    {
     "name": "stderr",
     "output_type": "stream",
     "text": [
      "No id variables; using all as measure variables\n"
     ]
    },
    {
     "data": {
      "image/png": "iVBORw0KGgoAAAANSUhEUgAAAtAAAAFoCAMAAABJ+DwrAAAAWlBMVEUAAAAApv8Aut4AvVwA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",
      "text/plain": [
       "plot without title"
      ]
     },
     "metadata": {
      "image/svg+xml": {
       "isolated": true
      }
     },
     "output_type": "display_data"
    }
   ],
   "source": [
    "X%>%as.data.frame()%>%melt()%>%\n",
    "ggplot(aes(x=value,color=variable))+geom_density()"
   ]
  },
  {
   "cell_type": "markdown",
   "metadata": {},
   "source": [
    "Normal distribution seems a good approximation for this data. So, we do not need to perform any transformations."
   ]
  },
  {
   "cell_type": "code",
   "execution_count": 16,
   "metadata": {
    "collapsed": false
   },
   "outputs": [
    {
     "name": "stdout",
     "output_type": "stream",
     "text": [
      "Number of variables and observations of X"
     ]
    },
    {
     "data": {
      "text/html": [
       "<ol class=list-inline>\n",
       "\t<li>1000</li>\n",
       "\t<li>11</li>\n",
       "</ol>\n"
      ],
      "text/latex": [
       "\\begin{enumerate*}\n",
       "\\item 1000\n",
       "\\item 11\n",
       "\\end{enumerate*}\n"
      ],
      "text/markdown": [
       "1. 1000\n",
       "2. 11\n",
       "\n",
       "\n"
      ],
      "text/plain": [
       "[1] 1000   11"
      ]
     },
     "metadata": {},
     "output_type": "display_data"
    }
   ],
   "source": [
    "cat(\"Number of variables and observations of X\")\n",
    "dim(X)"
   ]
  },
  {
   "cell_type": "code",
   "execution_count": 17,
   "metadata": {
    "collapsed": false
   },
   "outputs": [
    {
     "name": "stdout",
     "output_type": "stream",
     "text": [
      "Number of variables and observations of cross-validation data"
     ]
    },
    {
     "data": {
      "text/html": [
       "<ol class=list-inline>\n",
       "\t<li>100</li>\n",
       "\t<li>11</li>\n",
       "</ol>\n"
      ],
      "text/latex": [
       "\\begin{enumerate*}\n",
       "\\item 100\n",
       "\\item 11\n",
       "\\end{enumerate*}\n"
      ],
      "text/markdown": [
       "1. 100\n",
       "2. 11\n",
       "\n",
       "\n"
      ],
      "text/plain": [
       "[1] 100  11"
      ]
     },
     "metadata": {},
     "output_type": "display_data"
    }
   ],
   "source": [
    "cat(\"Number of variables and observations of cross-validation data\")\n",
    "dim(Xval)"
   ]
  },
  {
   "cell_type": "code",
   "execution_count": 18,
   "metadata": {
    "collapsed": false
   },
   "outputs": [
    {
     "name": "stdout",
     "output_type": "stream",
     "text": [
      "Labels of cross-validation data\n",
      "y=0 corresponds to normal servers and y=1 corresponds to anomalous servers"
     ]
    },
    {
     "data": {
      "text/html": [
       "<ol class=list-inline>\n",
       "\t<li>100</li>\n",
       "\t<li>1</li>\n",
       "</ol>\n"
      ],
      "text/latex": [
       "\\begin{enumerate*}\n",
       "\\item 100\n",
       "\\item 1\n",
       "\\end{enumerate*}\n"
      ],
      "text/markdown": [
       "1. 100\n",
       "2. 1\n",
       "\n",
       "\n"
      ],
      "text/plain": [
       "[1] 100   1"
      ]
     },
     "metadata": {},
     "output_type": "display_data"
    }
   ],
   "source": [
    "cat(\"Labels of cross-validation data\")\n",
    "cat(\"\\ny=0 corresponds to normal servers and y=1 corresponds to anomalous servers\")\n",
    "dim(yval)"
   ]
  },
  {
   "cell_type": "markdown",
   "metadata": {},
   "source": [
    "The Xval measures are also nearly normally distributed as shown below."
   ]
  },
  {
   "cell_type": "code",
   "execution_count": 19,
   "metadata": {
    "collapsed": false
   },
   "outputs": [
    {
     "name": "stderr",
     "output_type": "stream",
     "text": [
      "No id variables; using all as measure variables\n"
     ]
    },
    {
     "data": {
      "image/png": "iVBORw0KGgoAAAANSUhEUgAAAtAAAAFoCAMAAABJ+DwrAAAAWlBMVEUAAAAApv8Aut4AvVwA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\ntGRX+T+XmMcaRVeMeAAAAABJRU5ErkJggg==",
      "text/plain": [
       "plot without title"
      ]
     },
     "metadata": {
      "image/svg+xml": {
       "isolated": true
      }
     },
     "output_type": "display_data"
    }
   ],
   "source": [
    "Xval%>%as.data.frame()%>%melt()%>%\n",
    "ggplot(aes(x=value,color=variable))+geom_density()"
   ]
  },
  {
   "cell_type": "markdown",
   "metadata": {},
   "source": [
    "Now, following the steps we used above, let's calculate probabilities for X and Xval."
   ]
  },
  {
   "cell_type": "code",
   "execution_count": 20,
   "metadata": {
    "collapsed": false
   },
   "outputs": [],
   "source": [
    "# Create preProcess object\n",
    "X = as.data.frame(X)\n",
    "preObj <- preProcess(X,method=\"center\")\n",
    "\n",
    "# Center the data- subtract the column means from the data points\n",
    "X2 <- predict(preObj,X)"
   ]
  },
  {
   "cell_type": "code",
   "execution_count": 21,
   "metadata": {
    "collapsed": false
   },
   "outputs": [],
   "source": [
    "sigma2=cov(X2)\n",
    "sigma2=diag(sigma2)\n",
    "sigma2=diag(sigma2)"
   ]
  },
  {
   "cell_type": "markdown",
   "metadata": {},
   "source": [
    "Calculate probability for X:"
   ]
  },
  {
   "cell_type": "code",
   "execution_count": 22,
   "metadata": {
    "collapsed": false
   },
   "outputs": [],
   "source": [
    "X2= as.matrix(X2)\n",
    "A=(2*pi)^(-ncol(X2)/2)*det(sigma2)^(-0.5)\n",
    "\n",
    "B = exp(-0.5 *rowSums((X2%*%ginv(sigma2))*X2))\n",
    "p = A*B"
   ]
  },
  {
   "cell_type": "markdown",
   "metadata": {},
   "source": [
    "Next, let's calculate probabilties for the cross-validation data (Xval)."
   ]
  },
  {
   "cell_type": "code",
   "execution_count": 36,
   "metadata": {
    "collapsed": false
   },
   "outputs": [],
   "source": [
    "# Create preProcess object\n",
    "Xval = as.data.frame(Xval)\n",
    "preObj <- preProcess(Xval,method=\"center\")\n",
    "\n",
    "# Center the data- subtract the column means from the data points\n",
    "\n",
    "Xval_centered <- predict(preObj,Xval)"
   ]
  },
  {
   "cell_type": "code",
   "execution_count": 37,
   "metadata": {
    "collapsed": false
   },
   "outputs": [],
   "source": [
    "Xval_centered = as.matrix(Xval_centered)\n",
    "sigma2=diag(var(Xval_centered))\n",
    "sigma2= diag(sigma2)"
   ]
  },
  {
   "cell_type": "code",
   "execution_count": 38,
   "metadata": {
    "collapsed": true
   },
   "outputs": [],
   "source": [
    "A=(2*pi)^(-ncol(Xval_centered)/2)*det(sigma2)^(-0.5)\n",
    "\n",
    "B = exp(-0.5 *rowSums((Xval_centered%*%ginv(sigma2))*Xval_centered))\n",
    "pval = A*B"
   ]
  },
  {
   "cell_type": "markdown",
   "metadata": {},
   "source": [
    "Now, we can determine the best probability threshold and also the associated `F1 score`."
   ]
  },
  {
   "cell_type": "code",
   "execution_count": 55,
   "metadata": {
    "collapsed": false
   },
   "outputs": [
    {
     "name": "stdout",
     "output_type": "stream",
     "text": [
      "\n",
      " bestF1 = 0.64\n",
      " bestEpsilon = 1.597136e-18"
     ]
    }
   ],
   "source": [
    "bestEpsilon = 0\n",
    "bestF1 = 0\n",
    "F1 = 0\n",
    "\n",
    "stepsize = (max(pval) - min(pval)) / 1000\n",
    "\n",
    "for (epsilon in seq(from =min(pval), by= stepsize,to =max(pval))){\n",
    "\n",
    "    predictions = (pval < epsilon)*1\n",
    "  \n",
    "    tp = sum((predictions == 1) & (yval == 1))\n",
    "    fp = sum((predictions == 1) & (yval == 0))\n",
    "    fn = sum((predictions == 0) & (yval == 1))\n",
    "    prec = tp / (tp + fp)\n",
    "    rec = tp / (tp + fn)\n",
    "    F1 = (2 * prec * rec) / (prec + rec)\n",
    "    \n",
    " if (!is.na(F1)& (F1 > bestF1)==TRUE){\n",
    "       bestF1 = F1\n",
    "       bestEpsilon = epsilon\n",
    "    \n",
    "}\n",
    "   }\n",
    "\n",
    "cat(\"\\n bestF1 =\",bestF1)\n",
    "cat(\"\\n bestEpsilon =\",bestEpsilon)"
   ]
  },
  {
   "cell_type": "markdown",
   "metadata": {},
   "source": [
    "Finally, let's calculate the number of anomalous and normal servers.'"
   ]
  },
  {
   "cell_type": "code",
   "execution_count": 56,
   "metadata": {
    "collapsed": false
   },
   "outputs": [],
   "source": [
    "probability=p\n",
    "X=cbind(X,probability)\n",
    "X$outliers= X$probability < bestEpsilon\n",
    "X$outliers=as.factor(X$outliers)"
   ]
  },
  {
   "cell_type": "code",
   "execution_count": 57,
   "metadata": {
    "collapsed": false
   },
   "outputs": [
    {
     "data": {
      "text/plain": [
       "\n",
       "FALSE  TRUE \n",
       "  869   131 "
      ]
     },
     "metadata": {},
     "output_type": "display_data"
    }
   ],
   "source": [
    "table(X$outliers)"
   ]
  },
  {
   "cell_type": "markdown",
   "metadata": {},
   "source": [
    "#### Summary"
   ]
  },
  {
   "cell_type": "markdown",
   "metadata": {},
   "source": [
    "Anomaly detection has various applications ranging from fraud detection to anomalous aircraft\n",
    "engine and medical device detection. In this blog post, we used anomaly detection algorithm to detect outliers of servers in a network using multivariate normal model. This blog post in an <strong>R</strong> version of a machine Learning programming assignment with <strong>Matlab</strong> on Coursera offered by Andrew Ng."
   ]
  }
 ],
 "metadata": {
  "anaconda-cloud": {},
  "kernelspec": {
   "display_name": "R",
   "language": "R",
   "name": "ir"
  },
  "language_info": {
   "codemirror_mode": "r",
   "file_extension": ".r",
   "mimetype": "text/x-r-source",
   "name": "R",
   "pygments_lexer": "r",
   "version": "3.3.1"
  }
 },
 "nbformat": 4,
 "nbformat_minor": 0
}
